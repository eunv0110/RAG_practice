{
 "cells": [
  {
   "cell_type": "code",
   "execution_count": null,
   "id": "ba6b4331",
   "metadata": {},
   "outputs": [],
   "source": [
    "#! pip install langchain_text_splitters\n",
    "#! pip install langchain_community\n",
    "#! pip install langchain_core\n",
    "#! pip install langchain_openai\n",
    "#! pip install python-dotenv\n",
    "#! pip install langchain\n",
    "#! pip install pdfplumber"
   ]
  },
  {
   "cell_type": "code",
   "execution_count": 4,
   "id": "40d004be",
   "metadata": {},
   "outputs": [
    {
     "data": {
      "text/plain": [
       "True"
      ]
     },
     "execution_count": 4,
     "metadata": {},
     "output_type": "execute_result"
    }
   ],
   "source": [
    "from langchain_text_splitters import RecursiveCharacterTextSplitter\n",
    "from langchain_community.document_loaders import PDFPlumberLoader\n",
    "from langchain_community.vectorstores import FAISS\n",
    "from langchain_core.output_parsers import StrOutputParser\n",
    "from langchain_core.runnables import RunnablePassthrough\n",
    "from langchain_openai import ChatOpenAI,OpenAIEmbeddings\n",
    "from langchain import hub\n",
    "from dotenv import load_dotenv\n",
    "\n",
    "load_dotenv()"
   ]
  },
  {
   "cell_type": "code",
   "execution_count": 12,
   "id": "67e0a08b",
   "metadata": {},
   "outputs": [
    {
     "data": {
      "text/plain": [
       "\"삼성에서 개발한 AI의 이름은 '삼성 가우스'입니다.\""
      ]
     },
     "execution_count": 12,
     "metadata": {},
     "output_type": "execute_result"
    }
   ],
   "source": [
    "#1단계 : 문서로드\n",
    "loader=PDFPlumberLoader(\"data/SPRI_AI_Brief_2023년12월호_F.pdf\")\n",
    "docs=loader.load()\n",
    "\n",
    "#2단계 : 문서분할\n",
    "text_splitter=RecursiveCharacterTextSplitter(chunk_size=300,chunk_overlap=50)\n",
    "split_document=text_splitter.split_documents(docs)\n",
    "\n",
    "#3단계 : 임베딩 생성\n",
    "embeddings=OpenAIEmbeddings()\n",
    "\n",
    "#4단계 : DB 생성\n",
    "vectorstores=FAISS.from_documents(documents=split_document,embedding=embeddings)\n",
    "\n",
    "#5단계 : retriever\n",
    "retriever=vectorstores.as_retriever()\n",
    "\n",
    "#6단계 : 프롬프트 생성\n",
    "prompt=hub.pull(\"teddynote/rag-korean\")\n",
    "\n",
    "#7단계 : llm 생성\n",
    "llm=ChatOpenAI(model=\"gpt-4o\",temperature=0)\n",
    "\n",
    "#8단계 : chain 생성\n",
    "chain=({\"context\":retriever,\"question\":RunnablePassthrough()}\n",
    "| prompt\n",
    "| llm\n",
    "| StrOutputParser())\n",
    "\n",
    "chain.invoke(\"삼성에서 개발한 AI 이름은?\")"
   ]
  },
  {
   "cell_type": "code",
   "execution_count": 16,
   "id": "4b4cb6ec",
   "metadata": {},
   "outputs": [
    {
     "data": {
      "text/plain": [
       "True"
      ]
     },
     "execution_count": 16,
     "metadata": {},
     "output_type": "execute_result"
    }
   ],
   "source": [
    "from langchain_text_splitters import RecursiveCharacterTextSplitter\n",
    "from langchain_community.document_loaders import PDFPlumberLoader\n",
    "from langchain_community.vectorstores import FAISS\n",
    "from langchain_core.output_parsers import StrOutputParser\n",
    "from langchain_core.runnables import RunnablePassthrough\n",
    "from langchain_openai import ChatOpenAI,OpenAIEmbeddings\n",
    "from langchain import hub\n",
    "from dotenv import load_dotenv \n",
    "load_dotenv()\n"
   ]
  },
  {
   "cell_type": "code",
   "execution_count": 20,
   "id": "96f11b2a",
   "metadata": {},
   "outputs": [],
   "source": [
    "#1단계 : 문서로드 \n",
    "loader=PDFPlumberLoader(\"data/SPRI_AI_Brief_2023년12월호_F.pdf\")\n",
    "docs=loader.load()\n",
    "\n",
    "#2단계 : 문서분할\n",
    "text_splitter=RecursiveCharacterTextSplitter(chunk_size=300,chunk_overlap=30)\n",
    "split_documents=text_splitter.split_documents(docs)\n",
    "\n",
    "#3단계 : 임베딩 생성\n",
    "embeddings=OpenAIEmbeddings()\n",
    "\n",
    "#4단계 : vectordb 생성\n",
    "vectorstore=FAISS.from_documents(documents=split_documents,embedding=embeddings)\n",
    "\n",
    "#5단계\n",
    "retriever=vectorstore.as_retriever()\n",
    "\n",
    "#6단계\n",
    "prompt=hub.pull(\"teddynote/rag-korean\")\n",
    "\n",
    "#7단계\n",
    "llm=ChatOpenAI(model=\"gpt-4o\",temperature=0)\n",
    "\n",
    "#체인 생성\n",
    "chain=({\"context\":retriever,\"question\":RunnablePassthrough()}\n",
    "|prompt\n",
    "|llm\n",
    "|StrOutputParser())"
   ]
  },
  {
   "cell_type": "code",
   "execution_count": 21,
   "id": "14fa263f",
   "metadata": {},
   "outputs": [
    {
     "data": {
      "text/plain": [
       "\"삼성이 개발한 AI의 이름은 '삼성 가우스'입니다.\""
      ]
     },
     "execution_count": 21,
     "metadata": {},
     "output_type": "execute_result"
    }
   ],
   "source": [
    "chain.invoke(\"삼성이 개발한 AI 이름은?\")"
   ]
  },
  {
   "cell_type": "code",
   "execution_count": 29,
   "id": "25392cc9",
   "metadata": {},
   "outputs": [
    {
     "data": {
      "text/plain": [
       "True"
      ]
     },
     "execution_count": 29,
     "metadata": {},
     "output_type": "execute_result"
    }
   ],
   "source": [
    "from langchain_text_splitters import RecursiveCharacterTextSplitter\n",
    "from langchain_community.document_loaders import PDFPlumberLoader\n",
    "from langchain_community.vectorstores import FAISS\n",
    "from langchain_core.output_parsers import StrOutputParser\n",
    "from langchain_core.runnables import RunnablePassthrough\n",
    "from langchain_openai import ChatOpenAI,OpenAIEmbeddings\n",
    "from langchain import hub\n",
    "from dotenv import load_dotenv\n",
    "\n",
    "load_dotenv()"
   ]
  },
  {
   "cell_type": "code",
   "execution_count": 34,
   "id": "7ca603de",
   "metadata": {},
   "outputs": [
    {
     "data": {
      "text/plain": [
       "\"삼성이 개발한 AI의 이름은 '삼성 가우스'입니다.\""
      ]
     },
     "execution_count": 34,
     "metadata": {},
     "output_type": "execute_result"
    }
   ],
   "source": [
    "#1단계\n",
    "loader=PDFPlumberLoader(\"data/SPRI_AI_Brief_2023년12월호_F.pdf\")\n",
    "docs=loader.load()\n",
    "\n",
    "#2단계\n",
    "text_splitter=RecursiveCharacterTextSplitter(chunk_size=300,chunk_overlap=50)\n",
    "split_documents=text_splitter.split_documents(docs)\n",
    "\n",
    "#3단계 : 임베딩 생성\n",
    "embeddings=OpenAIEmbeddings()\n",
    "\n",
    "#4단계 : db 생성\n",
    "vectorstore=FAISS.from_documents(documents=split_documents,embedding=embeddings)\n",
    "\n",
    "#5단계 : retriever 생성\n",
    "retriever=vectorstore.as_retriever()\n",
    "\n",
    "#6단계 : 프롬프트 생성\n",
    "prompt=hub.pull(\"teddynote/rag-korean\")\n",
    "\n",
    "#7단계 : llm 생성\n",
    "llm=ChatOpenAI(model=\"gpt-4o\",temperature=0)\n",
    "\n",
    "#8단계 : 체인 생성\n",
    "chain=({\"context\":retriever,\"question\":RunnablePassthrough()}\n",
    "| prompt\n",
    "| llm\n",
    "|StrOutputParser())\n",
    "\n",
    "\n",
    "chain.invoke(\"삼성이 개발한 AI 이름은?\")"
   ]
  },
  {
   "cell_type": "code",
   "execution_count": 37,
   "id": "b426f399",
   "metadata": {},
   "outputs": [
    {
     "data": {
      "text/plain": [
       "True"
      ]
     },
     "execution_count": 37,
     "metadata": {},
     "output_type": "execute_result"
    }
   ],
   "source": [
    "from langchain_text_splitters import RecursiveCharacterTextSplitter\n",
    "from langchain_community.document_loaders import PDFPlumberLoader\n",
    "from langchain_community.vectorstores import FAISS\n",
    "from langchain_core.output_parsers import StrOutputParser\n",
    "from langchain_core.runnables import RunnablePassthrough\n",
    "from langchain_openai import ChatOpenAI,OpenAIEmbeddings\n",
    "from langchain import hub\n",
    "from dotenv import load_dotenv\n",
    "\n",
    "load_dotenv()\n"
   ]
  },
  {
   "cell_type": "code",
   "execution_count": 40,
   "id": "4542dfb6",
   "metadata": {},
   "outputs": [
    {
     "data": {
      "text/plain": [
       "\"삼성이 개발한 AI의 이름은 '삼성 가우스'입니다.\""
      ]
     },
     "execution_count": 40,
     "metadata": {},
     "output_type": "execute_result"
    }
   ],
   "source": [
    "#1단계 : 문서로드\n",
    "loader=PDFPlumberLoader(\"data/SPRI_AI_Brief_2023년12월호_F.pdf\")\n",
    "docs=loader.load()\n",
    "\n",
    "#2단계 : 문서 분할\n",
    "text_splitter=RecursiveCharacterTextSplitter(chunk_size=300,chunk_overlap=50)\n",
    "split_documents=text_splitter.split_documents(docs)\n",
    "\n",
    "#3단계 : 임베딩 생성\n",
    "embeddings=OpenAIEmbeddings()\n",
    "\n",
    "#4단계 : vectordb 생성\n",
    "vectorstore=FAISS.from_documents(documents=split_documents,embedding=embeddings)\n",
    "\n",
    "#5단계 : retriever 생성\n",
    "retriever=vectorstore.as_retriever()\n",
    "\n",
    "#6단계 : prompt 생성\n",
    "prompt=hub.pull(\"teddynote/rag-korean\")\n",
    "\n",
    "#7단계 : llm 생성\n",
    "llm=ChatOpenAI(model_name=\"gpt-4o\",temperature=0)\n",
    "\n",
    "#8단계 : chain 생성\n",
    "chain=({\"context\":retriever,\"question\":RunnablePassthrough()}\n",
    "|prompt\n",
    "|llm\n",
    "|StrOutputParser())\n",
    "\n",
    "chain.invoke(\"삼성이 개발한 AI 이름은?\")"
   ]
  }
 ],
 "metadata": {
  "kernelspec": {
   "display_name": "rag-practice-wES8DFZK-py3.13",
   "language": "python",
   "name": "python3"
  },
  "language_info": {
   "codemirror_mode": {
    "name": "ipython",
    "version": 3
   },
   "file_extension": ".py",
   "mimetype": "text/x-python",
   "name": "python",
   "nbconvert_exporter": "python",
   "pygments_lexer": "ipython3",
   "version": "3.13.5"
  }
 },
 "nbformat": 4,
 "nbformat_minor": 5
}
