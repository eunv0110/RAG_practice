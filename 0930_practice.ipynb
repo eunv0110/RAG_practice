{
 "cells": [
  {
   "cell_type": "markdown",
   "id": "a074b6d7",
   "metadata": {},
   "source": [
    "##  1. 0930(1)"
   ]
  },
  {
   "cell_type": "code",
   "execution_count": 1,
   "id": "2951c982",
   "metadata": {},
   "outputs": [
    {
     "data": {
      "text/plain": [
       "True"
      ]
     },
     "execution_count": 1,
     "metadata": {},
     "output_type": "execute_result"
    }
   ],
   "source": [
    "from langchain_text_splitters import RecursiveCharacterTextSplitter\n",
    "from langchain_community.document_loaders import PDFPlumberLoader \n",
    "from langchain_community.vectorstores import FAISS\n",
    "from langchain_core.output_parsers import StrOutputParser\n",
    "from langchain_core.runnables import RunnablePassthrough\n",
    "from langchain import hub\n",
    "from langchain_openai import OpenAIEmbeddings,ChatOpenAI\n",
    "from dotenv import load_dotenv\n",
    "\n",
    "load_dotenv()"
   ]
  },
  {
   "cell_type": "code",
   "execution_count": 2,
   "id": "41bd4a38",
   "metadata": {},
   "outputs": [
    {
     "data": {
      "text/plain": [
       "\"삼성전자에서 개발한 AI는 '삼성 가우스'입니다.\""
      ]
     },
     "execution_count": 2,
     "metadata": {},
     "output_type": "execute_result"
    }
   ],
   "source": [
    "#1단계 : 문서 로드\n",
    "loader=PDFPlumberLoader(\"data/SPRI_AI_Brief_2023년12월호_F.pdf\")\n",
    "docs=loader.load()\n",
    "\n",
    "#2단계 : 문서분할\n",
    "text_splitter=RecursiveCharacterTextSplitter(chunk_size=300,chunk_overlap=50)\n",
    "split_docs=text_splitter.split_documents(docs)\n",
    "\n",
    "#3단계 : 임베딩\n",
    "embeddings=OpenAIEmbeddings()\n",
    "\n",
    "#4단계 : vectordb 생성\n",
    "vectorstores=FAISS.from_documents(documents=split_docs,embedding=embeddings)\n",
    "\n",
    "#5단계 : retriver 생성\n",
    "retriever=vectorstores.as_retriever()\n",
    "\n",
    "#6단계 : 프롬프트 생성\n",
    "prompt=hub.pull(\"teddynote/rag-korean\")\n",
    "\n",
    "#7단계 : llm 생성\n",
    "llm=ChatOpenAI(model_name=\"gpt-4o\",temperature=0)\n",
    "\n",
    "#8단계 : 체인생성\n",
    "chain=({\"context\":retriever,\"question\":RunnablePassthrough()}\n",
    "       |prompt\n",
    "       |llm\n",
    "       |StrOutputParser())\n",
    "\n",
    "chain.invoke(\"삼성전자에서 개발한 AI는?\")"
   ]
  },
  {
   "cell_type": "markdown",
   "id": "288c5d23",
   "metadata": {},
   "source": [
    "##  2. 0930(2)"
   ]
  },
  {
   "cell_type": "code",
   "execution_count": 5,
   "id": "77eaa032",
   "metadata": {},
   "outputs": [
    {
     "data": {
      "text/plain": [
       "\"삼성전자에서 개발한 AI는 '삼성 가우스'입니다.\""
      ]
     },
     "execution_count": 5,
     "metadata": {},
     "output_type": "execute_result"
    }
   ],
   "source": [
    "from langchain_text_splitters import RecursiveCharacterTextSplitter\n",
    "from langchain_community.document_loaders import PDFPlumberLoader\n",
    "from langchain_community.vectorstores import FAISS\n",
    "from langchain_core.output_parsers import StrOutputParser\n",
    "from langchain_core.runnables import RunnablePassthrough\n",
    "from langchain import hub\n",
    "from langchain_openai import OpenAIEmbeddings,ChatOpenAI\n",
    "from dotenv import load_dotenv\n",
    "\n",
    "load_dotenv()\n",
    "\n",
    "#1. 문서로드\n",
    "loader=PDFPlumberLoader(\"data/SPRI_AI_Brief_2023년12월호_F.pdf\")\n",
    "docs=loader.load()\n",
    "\n",
    "#2. 문서분할\n",
    "text_spliltter=RecursiveCharacterTextSplitter(chunk_size=300,chunk_overlap=50)\n",
    "split_documents=text_splitter.split_documents(docs)\n",
    "\n",
    "#3. 임베딩\n",
    "embeddings=OpenAIEmbeddings()\n",
    "\n",
    "#4. vectordb 생성\n",
    "vectorstores=FAISS.from_documents(documents=split_documents,embedding=embeddings)\n",
    "\n",
    "#5. retriver 생성\n",
    "retriever=vectorstores.as_retriever()\n",
    "\n",
    "#6. 프롬프트 생성\n",
    "prompt=hub.pull(\"teddynote/rag-korean\")\n",
    "\n",
    "#7. llm 생성\n",
    "llm=ChatOpenAI(model_name=\"gpt-4o\",temperature=0)\n",
    "\n",
    "#8. 체인생성\n",
    "chain=({\"context\":retriever,\"question\":RunnablePassthrough()}\n",
    "       |prompt\n",
    "       |llm\n",
    "       |StrOutputParser())\n",
    "\n",
    "chain.invoke(\"삼성전자에서 개발한 AI는?\")"
   ]
  }
 ],
 "metadata": {
  "kernelspec": {
   "display_name": "rag-practice-wES8DFZK-py3.13",
   "language": "python",
   "name": "python3"
  },
  "language_info": {
   "codemirror_mode": {
    "name": "ipython",
    "version": 3
   },
   "file_extension": ".py",
   "mimetype": "text/x-python",
   "name": "python",
   "nbconvert_exporter": "python",
   "pygments_lexer": "ipython3",
   "version": "3.13.5"
  }
 },
 "nbformat": 4,
 "nbformat_minor": 5
}
