{
 "cells": [
  {
   "cell_type": "markdown",
   "id": "d782218c",
   "metadata": {},
   "source": [
    "# 1. 0928(1)"
   ]
  },
  {
   "cell_type": "code",
   "execution_count": null,
   "id": "b55b9ca3",
   "metadata": {},
   "outputs": [
    {
     "data": {
      "text/plain": [
       "True"
      ]
     },
     "execution_count": 4,
     "metadata": {},
     "output_type": "execute_result"
    }
   ],
   "source": [
    "from langchain_text_splitters import RecursiveCharacterTextSplitter\n",
    "from langchain_community.document_loaders import PDFPlumberLoader\n",
    "from langchain_community.vectorstores import FAISS\n",
    "from langchain_core.output_parsers import StrOutputParser\n",
    "from langchain_core.runnables import RunnablePassthrough\n",
    "from langchain_openai import ChatOpenAI, OpenAIEmbeddings\n",
    "from langchain import hub\n",
    "from dotenv import load_dotenv\n",
    "\n",
    "load_dotenv()"
   ]
  },
  {
   "cell_type": "code",
   "execution_count": 7,
   "id": "c9e6a835",
   "metadata": {},
   "outputs": [
    {
     "data": {
      "text/plain": [
       "\"삼성이 개발한 AI의 이름은 '삼성 가우스'입니다.\""
      ]
     },
     "execution_count": 7,
     "metadata": {},
     "output_type": "execute_result"
    }
   ],
   "source": [
    "#1단계 : 문서로드\n",
    "loader=PDFPlumberLoader(\"data/SPRI_AI_Brief_2023년12월호_F.pdf\")\n",
    "docs=loader.load()\n",
    "\n",
    "#2단계 : 문서 분할\n",
    "text_splitter=RecursiveCharacterTextSplitter(chunk_size=300,chunk_overlap=50)\n",
    "split_documents=text_splitter.split_documents(docs)\n",
    "\n",
    "#3단계 : 임베딩 생성\n",
    "embeddings=OpenAIEmbeddings()\n",
    "\n",
    "#4단계 : DB 생성\n",
    "vectorstore=FAISS.from_documents(documents=split_documents,embedding=embeddings)\n",
    "\n",
    "#5단계\n",
    "retriever=vectorstore.as_retriever()\n",
    "\n",
    "#6단계 프롬프트 생성\n",
    "prompt=hub.pull(\"teddynote/rag-korean\")\n",
    "\n",
    "#7단계\n",
    "llm=ChatOpenAI(model_name=\"gpt-4o\",temperature=0)\n",
    "\n",
    "#8단계 : 체인 생성\n",
    "chain=(\n",
    "    {\"context\":retriever,\"question\":RunnablePassthrough()}\n",
    "    | prompt\n",
    "    | llm\n",
    "    | StrOutputParser()\n",
    ")\n",
    "\n",
    "chain.invoke(\"삼성이 개발한 AI 이름은?\")"
   ]
  },
  {
   "cell_type": "markdown",
   "id": "88bb39cb",
   "metadata": {},
   "source": [
    "# 2. 0928(2)"
   ]
  },
  {
   "cell_type": "code",
   "execution_count": 10,
   "id": "827e0385",
   "metadata": {},
   "outputs": [
    {
     "data": {
      "text/plain": [
       "True"
      ]
     },
     "execution_count": 10,
     "metadata": {},
     "output_type": "execute_result"
    }
   ],
   "source": [
    "from langchain_text_splitters import RecursiveCharacterTextSplitter\n",
    "from langchain_community.document_loaders import PDFPlumberLoader\n",
    "from langchain_community.vectorstores import FAISS\n",
    "from langchain_core.output_parsers import StrOutputParser\n",
    "from langchain_core.runnables import RunnablePassthrough\n",
    "from langchain_openai import OpenAIEmbeddings,OpenAI\n",
    "from langchain import hub\n",
    "from dotenv import load_dotenv\n",
    "\n",
    "load_dotenv()\n"
   ]
  },
  {
   "cell_type": "code",
   "execution_count": 16,
   "id": "c540443f",
   "metadata": {},
   "outputs": [
    {
     "data": {
      "text/plain": [
       "\"삼성이 개발한 AI의 이름은 '삼성 가우스'입니다.\""
      ]
     },
     "execution_count": 16,
     "metadata": {},
     "output_type": "execute_result"
    }
   ],
   "source": [
    "#1단계 : 문서 로드\n",
    "loader=PDFPlumberLoader(\"data/SPRI_AI_Brief_2023년12월호_F.pdf\")\n",
    "docs=loader.load()\n",
    "\n",
    "#2단계 : 문서분할\n",
    "text_splitter=RecursiveCharacterTextSplitter(chunk_size=300,chunk_overlap=50)\n",
    "split_documents=text_splitter.split_documents(docs)\n",
    "\n",
    "#3단계 : 임베딩\n",
    "embeddings=OpenAIEmbeddings()\n",
    "\n",
    "#4단계 : vectorDB 생성\n",
    "vectorstore=FAISS.from_documents(documents=split_documents,embedding=embeddings)\n",
    "\n",
    "#5단계 : retriver 생성\n",
    "retriever=vectorstore.as_retriever()\n",
    "\n",
    "#6단계 : 프롬프트 생성\n",
    "prompt=hub.pull(\"teddynote/rag-korean\")\n",
    "\n",
    "#7단계 : llm 생성\n",
    "llm=ChatOpenAI(model_name=\"gpt-4o\",temperature=0)\n",
    "\n",
    "#8단계 : 체인 생성\n",
    "chain=({\n",
    "    \"context\":retriever,\"question\":RunnablePassthrough()}\n",
    "    |prompt\n",
    "    |llm\n",
    "    |StrOutputParser()\n",
    ")\n",
    "\n",
    "chain.invoke(\"삼성이 개발한 AI 이름은?\")"
   ]
  },
  {
   "cell_type": "code",
   "execution_count": 18,
   "id": "003fb3e5",
   "metadata": {},
   "outputs": [],
   "source": [
    "from langchain_text_splitters import RecursiveCharacterTextSplitter\n",
    "from langchain_community.document_loaders import PDFPlumberLoader\n",
    "from langchain_community.vectorstores import FAISS\n",
    "from langchain_core.output_parsers import StrOutputParser\n",
    "from langchain_core.runnables import RunnablePassthrough\n",
    "from langchain_openai import OpenAIEmbeddings,ChatOpenAI\n",
    "from langchain import hub\n",
    "from dotenv import load_dotenv\n",
    "\n",
    "load_dotenv()\n",
    "\n",
    "#단계 1 : 문서로드\n",
    "loader=PDFPlumberLoader(\"data/SPRI_AI_Brief_2023년12월호_F.pdf\")\n",
    "docs=loader.load()\n",
    "\n",
    "#단계 2 : 문서분할\n",
    "text_splitter=RecursiveCharacterTextSplitter(chunk_size=300,chunk_overlap=50)\n",
    "split_documents=text_splitter.split_documents(docs)\n",
    "\n",
    "#단계 3: 임베딩 생성\n",
    "embeddings=OpenAIEmbeddings()\n",
    "\n",
    "#단계 4: DB 생성\n",
    "vectorstore=FAISS.from_documents(documents=split_documents,embedding=embeddings)\n",
    "\n",
    "#단계 5 : 검색기 생성\n",
    "retriever=vectorstore.as_retriever()\n",
    "\n",
    "#단계 6 : 프롬프트 생성\n",
    "prompt = hub.pull(\"teddynote/rag-korean\")\n",
    "\n",
    "#단계 7: 언어 모델\n",
    "llm = ChatOpenAI(model_name=\"gpt-4o\", temperature=0)\n",
    "\n",
    "#단계 8 : 체인 생성\n",
    "chain=({\"context\":retriever,\"question\":RunnablePassthrough()}\n",
    "       | prompt\n",
    "       | llm\n",
    "       | StrOutputParser())"
   ]
  },
  {
   "cell_type": "code",
   "execution_count": 19,
   "id": "af1d6c67",
   "metadata": {},
   "outputs": [
    {
     "data": {
      "text/plain": [
       "\"삼성이 개발한 AI의 이름은 '삼성 가우스'입니다.\""
      ]
     },
     "execution_count": 19,
     "metadata": {},
     "output_type": "execute_result"
    }
   ],
   "source": [
    "chain.invoke(\"삼성이 개발한 AI 이름은?\")"
   ]
  },
  {
   "cell_type": "code",
   "execution_count": null,
   "id": "e233bf16",
   "metadata": {},
   "outputs": [],
   "source": []
  }
 ],
 "metadata": {
  "kernelspec": {
   "display_name": "rag-practice-py3.11 (3.11.12)",
   "language": "python",
   "name": "python3"
  },
  "language_info": {
   "codemirror_mode": {
    "name": "ipython",
    "version": 3
   },
   "file_extension": ".py",
   "mimetype": "text/x-python",
   "name": "python",
   "nbconvert_exporter": "python",
   "pygments_lexer": "ipython3",
   "version": "3.11.12"
  }
 },
 "nbformat": 4,
 "nbformat_minor": 5
}
