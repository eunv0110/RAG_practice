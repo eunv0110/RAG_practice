{
 "cells": [
  {
   "cell_type": "markdown",
   "id": "a074b6d7",
   "metadata": {},
   "source": [
    "##  1. 1012 (1)"
   ]
  },
  {
   "cell_type": "code",
   "execution_count": null,
   "id": "ad6cac29",
   "metadata": {},
   "outputs": [
    {
     "data": {
      "text/plain": [
       "True"
      ]
     },
     "execution_count": 1,
     "metadata": {},
     "output_type": "execute_result"
    }
   ],
   "source": [
    "from langchain_text_splitters import RecursiveCharacterTextSplitter\n",
    "from langchain_community.document_loaders import PDFPlumberLoader\n",
    "from langchain_community.vectorstores import FAISS\n",
    "from langchain_openai import ChatOpenAI, OpenAIEmbeddings\n",
    "from langchain_core.runnables import RunnablePassthrough\n",
    "from langchain_core.output_parsers import StrOutputParser\n",
    "from langchain import hub\n",
    "from dotenv import load_dotenv\n",
    "\n",
    "load_dotenv()"
   ]
  },
  {
   "cell_type": "code",
   "execution_count": 2,
   "id": "c48a0696",
   "metadata": {},
   "outputs": [
    {
     "data": {
      "text/plain": [
       "\"삼성전자에서 개발한 AI는 '삼성 가우스'입니다. '삼성 가우스'는 언어, 코드, 이미지의 3개 모델로 구성된 생성 AI 모델로, 온디바이스에서 작동 가능하며 다양한 제품에 단계적으로 탑재될 계획입니다.\""
      ]
     },
     "execution_count": 2,
     "metadata": {},
     "output_type": "execute_result"
    }
   ],
   "source": [
    "# 1. 문서 불러오기\n",
    "loader = PDFPlumberLoader(\n",
    "    \"/Users/hwangeunbi/Documents/GitHub/RAG_practice/data/SPRI_AI_Brief_2023년12월호_F.pdf\"\n",
    ")\n",
    "docs = loader.load()\n",
    "\n",
    "# 2. 문서 쪼개기\n",
    "text_splitter = RecursiveCharacterTextSplitter(chunk_size=300, chunk_overlap=30)\n",
    "split_docs = text_splitter.split_documents(docs)\n",
    "\n",
    "# 3. 임베딩 모델 불러오기\n",
    "embeddings=OpenAIEmbeddings()\n",
    "\n",
    "# 4. 벡터 DB 생성\n",
    "vectorstore=FAISS.from_documents(documents=split_docs,embedding=embeddings)\n",
    "\n",
    "#5. retriever 생성\n",
    "retriever=vectorstore.as_retriever()\n",
    "\n",
    "#6. LLM 불러오기\n",
    "llm=ChatOpenAI(model_name=\"gpt-4o\",temperature=0)\n",
    "\n",
    "#7. prompt\n",
    "prompt=hub.pull(\"teddynote/rag-korean\")\n",
    "\n",
    "#8. RAG 생성\n",
    "chain=({\"context\":retriever,\n",
    "        \"question\":RunnablePassthrough()}|\n",
    "        prompt\n",
    "        |llm\n",
    "        |StrOutputParser())\n",
    "\n",
    "chain.invoke(\"삼성전자에서 개발한 AI는?\")\n"
   ]
  },
  {
   "cell_type": "markdown",
   "id": "58681f0d",
   "metadata": {},
   "source": [
    "##  2. 1012 (2)"
   ]
  },
  {
   "cell_type": "code",
   "execution_count": 3,
   "id": "c7185b9c",
   "metadata": {},
   "outputs": [
    {
     "data": {
      "text/plain": [
       "True"
      ]
     },
     "execution_count": 3,
     "metadata": {},
     "output_type": "execute_result"
    }
   ],
   "source": [
    "from langchain_text_splitters import RecursiveCharacterTextSplitter\n",
    "from langchain_community.document_loaders import PDFPlumberLoader\n",
    "from langchain_community.vectorstores import FAISS\n",
    "from langchain_openai import ChatOpenAI, OpenAIEmbeddings\n",
    "from langchain_core.runnables import RunnablePassthrough\n",
    "from langchain_core.output_parsers import StrOutputParser\n",
    "from langchain import hub\n",
    "from dotenv import load_dotenv\n",
    "\n",
    "load_dotenv()"
   ]
  },
  {
   "cell_type": "code",
   "execution_count": 5,
   "id": "6bc48f44",
   "metadata": {},
   "outputs": [
    {
     "data": {
      "text/plain": [
       "\"삼성전자에서 개발한 AI는 '삼성 가우스'입니다. '삼성 가우스'는 언어, 코드, 이미지의 3개 모델로 구성된 생성 AI입니다.\""
      ]
     },
     "execution_count": 5,
     "metadata": {},
     "output_type": "execute_result"
    }
   ],
   "source": [
    "#1. 문서 불러오기\n",
    "loader=PDFPlumberLoader(\"/Users/hwangeunbi/Documents/GitHub/RAG_practice/data/SPRI_AI_Brief_2023년12월호_F.pdf\")\n",
    "docs=loader.load()\n",
    "\n",
    "#2. 문서 쪼개기\n",
    "text_splitter=RecursiveCharacterTextSplitter(chunk_size=300,chunk_overlap=30)\n",
    "split_docs=text_splitter.split_documents(docs)\n",
    "\n",
    "#3. 임베딩 모델 불러오기\n",
    "embeddings=OpenAIEmbeddings()\n",
    "\n",
    "#4. 벡터 DB 생성\n",
    "vectorstore=FAISS.from_documents(documents=split_docs,embedding=embeddings)\n",
    "\n",
    "#5. retriever 생성\n",
    "retriever=vectorstore.as_retriever()\n",
    "\n",
    "#6. prompt 생ㅇ성\n",
    "prompt=hub.pull(\"teddynote/rag-korean\")\n",
    "\n",
    "#7. LLM 불러오기\n",
    "llm=ChatOpenAI(model_name=\"gpt-4o\",temperature=0)\n",
    "\n",
    "#8. RAG 생성\n",
    "chain=({\"context\":retriever,\"question\":RunnablePassthrough()}\n",
    "        | prompt\n",
    "        | llm\n",
    "        | StrOutputParser())\n",
    "\n",
    "chain.invoke(\"삼성전자에서 개발한 AI는?\")\n"
   ]
  },
  {
   "cell_type": "markdown",
   "id": "9ed16156",
   "metadata": {},
   "source": [
    "# 3. 1012 (3)"
   ]
  },
  {
   "cell_type": "code",
   "execution_count": null,
   "id": "6e2df89c",
   "metadata": {},
   "outputs": [
    {
     "data": {
      "text/plain": [
       "True"
      ]
     },
     "execution_count": 6,
     "metadata": {},
     "output_type": "execute_result"
    }
   ],
   "source": [
    "from langchain_text_splitters import RecursiveCharacterTextSplitter\n",
    "from langchain_community.document_loaders import PDFPlumberLoader\n",
    "from langchain_community.vectorstores import FAISS\n",
    "from langchain_core.runnables import RunnablePassthrough\n",
    "from langchain_core.output_parsers import StrOutputParser\n",
    "from langchain_openai import ChatOpenAI,OpenAIEmbeddings\n",
    "from langchain import hub\n",
    "from dotenv import load_dotenv\n",
    "\n",
    "load_dotenv()\n"
   ]
  },
  {
   "cell_type": "code",
   "execution_count": 11,
   "id": "f92c731f",
   "metadata": {},
   "outputs": [
    {
     "data": {
      "text/plain": [
       "\"삼성전자에서 개발한 AI는 '삼성 가우스'입니다. '삼성 가우스'는 언어, 코드, 이미지의 3개 모델로 구성된 생성 AI입니다.\""
      ]
     },
     "execution_count": 11,
     "metadata": {},
     "output_type": "execute_result"
    }
   ],
   "source": [
    "#1단계 : 문서 로드\n",
    "loader=PDFPlumberLoader(\"data/SPRI_AI_Brief_2023년12월호_F.pdf\")\n",
    "docs=loader.load()\n",
    "\n",
    "#2단계 : 문서분할\n",
    "text_splitter=RecursiveCharacterTextSplitter(chunk_size=300,chunk_overlap=30)\n",
    "split_docs=text_splitter.split_documents(documents=docs)\n",
    "\n",
    "#3단계 : 임베딩\n",
    "embeddings=OpenAIEmbeddings()\n",
    "\n",
    "#4단계 : vectordb 생성\n",
    "vectorstore=FAISS.from_documents(documents=split_docs,embedding=embeddings)\n",
    "\n",
    "#5단계 : retriever\n",
    "retriever=vectorstore.as_retriever()\n",
    "\n",
    "#6단계 : prompt 생성\n",
    "prompt=hub.pull(\"teddynote/rag-korean\")\n",
    "\n",
    "#7단계 : llm 생성\n",
    "llm=ChatOpenAI(model_name='gpt-4o',temperature=0)\n",
    "\n",
    "#8단계 : chain 생성\n",
    "chain=({\"context\":retriever,\"question\":RunnablePassthrough()}\n",
    "        | prompt\n",
    "        | llm\n",
    "        | StrOutputParser())\n",
    "\n",
    "chain.invoke(\"삼성전자에서 개발한 AI는?\")\n"
   ]
  },
  {
   "cell_type": "code",
   "execution_count": null,
   "id": "11f1ee59",
   "metadata": {},
   "outputs": [],
   "source": []
  }
 ],
 "metadata": {
  "kernelspec": {
   "display_name": "rag-practice-ZUxODm2k-py3.11",
   "language": "python",
   "name": "python3"
  },
  "language_info": {
   "codemirror_mode": {
    "name": "ipython",
    "version": 3
   },
   "file_extension": ".py",
   "mimetype": "text/x-python",
   "name": "python",
   "nbconvert_exporter": "python",
   "pygments_lexer": "ipython3",
   "version": "3.11.12"
  }
 },
 "nbformat": 4,
 "nbformat_minor": 5
}
